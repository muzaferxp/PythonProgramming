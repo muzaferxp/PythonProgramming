{
 "metadata": {
  "language_info": {
   "codemirror_mode": {
    "name": "ipython",
    "version": 3
   },
   "file_extension": ".py",
   "mimetype": "text/x-python",
   "name": "python",
   "nbconvert_exporter": "python",
   "pygments_lexer": "ipython3",
   "version": "3.9.0-final"
  },
  "orig_nbformat": 2,
  "kernelspec": {
   "name": "python3",
   "display_name": "Python 3.9.0 64-bit",
   "metadata": {
    "interpreter": {
     "hash": "c7192cbc191bcb1e11eb24b740d9d922bf147b1b4b27d90b14d37bd8ac6ff684"
    }
   }
  }
 },
 "nbformat": 4,
 "nbformat_minor": 2,
 "cells": [
  {
   "cell_type": "code",
   "execution_count": 1,
   "metadata": {},
   "outputs": [],
   "source": [
    "#===================STRING FUNCTIONS==================\n",
    "# .capitalize()\n",
    "# .title()\n",
    "# .center(10)\n",
    "# .strip() .strip(\"$\")\n",
    "# .replace()\n",
    "# .count()\n",
    "# .endswith()\n",
    "# .startswidth()\n",
    "# .split()\n",
    "# .join()\n",
    "# .lower()\n",
    "# .upper()\n",
    "# .find()\n",
    "# .format()\n",
    "# .index()\n",
    "\n",
    "\n",
    "text = \"hello world\" \n"
   ]
  },
  {
   "cell_type": "code",
   "execution_count": 2,
   "metadata": {},
   "outputs": [
    {
     "output_type": "execute_result",
     "data": {
      "text/plain": [
       "'Hello world'"
      ]
     },
     "metadata": {},
     "execution_count": 2
    }
   ],
   "source": [
    "text.capitalize()"
   ]
  },
  {
   "cell_type": "code",
   "execution_count": 24,
   "metadata": {},
   "outputs": [
    {
     "output_type": "execute_result",
     "data": {
      "text/plain": [
       "'                                            Hello World                                             '"
      ]
     },
     "metadata": {},
     "execution_count": 24
    }
   ],
   "source": [
    "text = text.title()\n",
    "text"
   ]
  },
  {
   "cell_type": "code",
   "execution_count": 10,
   "metadata": {},
   "outputs": [
    {
     "output_type": "execute_result",
     "data": {
      "text/plain": [
       "'                                            hello world                                             '"
      ]
     },
     "metadata": {},
     "execution_count": 10
    }
   ],
   "source": [
    "text = text.center(100)\n",
    "text"
   ]
  },
  {
   "cell_type": "code",
   "execution_count": 11,
   "metadata": {},
   "outputs": [
    {
     "output_type": "execute_result",
     "data": {
      "text/plain": [
       "100"
      ]
     },
     "metadata": {},
     "execution_count": 11
    }
   ],
   "source": [
    "len(text)"
   ]
  },
  {
   "cell_type": "code",
   "execution_count": 12,
   "metadata": {},
   "outputs": [
    {
     "output_type": "execute_result",
     "data": {
      "text/plain": [
       "'hello world'"
      ]
     },
     "metadata": {},
     "execution_count": 12
    }
   ],
   "source": [
    "text.strip()"
   ]
  },
  {
   "cell_type": "code",
   "execution_count": 14,
   "metadata": {},
   "outputs": [
    {
     "output_type": "execute_result",
     "data": {
      "text/plain": [
       "'Adam Sam'"
      ]
     },
     "metadata": {},
     "execution_count": 14
    }
   ],
   "source": [
    "name = \" Adam Sam     \"\n",
    "\n",
    "name.strip()"
   ]
  },
  {
   "cell_type": "code",
   "execution_count": 32,
   "metadata": {},
   "outputs": [
    {
     "output_type": "execute_result",
     "data": {
      "text/plain": [
       "'Adam'"
      ]
     },
     "metadata": {},
     "execution_count": 32
    }
   ],
   "source": [
    "raw_data = \"&%  Adam  |\"\n",
    "\n",
    "raw_data = raw_data.strip(\"&% |\")\n",
    "\n",
    "raw_data\n"
   ]
  },
  {
   "cell_type": "code",
   "execution_count": 45,
   "metadata": {},
   "outputs": [],
   "source": [
    "url = '   https://meet.google.com/vij-umkj-cnh?authuser=1    '\n",
    "\n",
    "url = url.strip()\n",
    "\n",
    "\n"
   ]
  },
  {
   "cell_type": "code",
   "execution_count": 46,
   "metadata": {},
   "outputs": [
    {
     "output_type": "execute_result",
     "data": {
      "text/plain": [
       "'https://meet.google.com.au/vij-umkj-cnh?authuser=1'"
      ]
     },
     "metadata": {},
     "execution_count": 46
    }
   ],
   "source": [
    "#=====replace\n",
    "url = url.replace(\"com\", \"com.au\")\n",
    "url"
   ]
  },
  {
   "cell_type": "code",
   "execution_count": 47,
   "metadata": {},
   "outputs": [
    {
     "output_type": "execute_result",
     "data": {
      "text/plain": [
       "3"
      ]
     },
     "metadata": {},
     "execution_count": 47
    }
   ],
   "source": [
    "#===count\n",
    "\n",
    "url.count(\"/\")"
   ]
  },
  {
   "cell_type": "code",
   "execution_count": 55,
   "metadata": {},
   "outputs": [
    {
     "output_type": "stream",
     "name": "stdout",
     "text": [
      "Its a Csv File\n"
     ]
    }
   ],
   "source": [
    "filename = 'data.html'\n",
    "\n",
    "if filename.endswith(\".csv\"):\n",
    "\n",
    "    print(\"Its a Csv File\")\n",
    "\n",
    "elif filename.endswith(\".json\"):\n",
    "\n",
    "    print('Its a Json File')\n",
    "\n",
    "else:\n",
    "    print(filename)\n"
   ]
  },
  {
   "cell_type": "code",
   "execution_count": 57,
   "metadata": {},
   "outputs": [
    {
     "output_type": "execute_result",
     "data": {
      "text/plain": [
       "False"
      ]
     },
     "metadata": {},
     "execution_count": 57
    }
   ],
   "source": [
    "filename.startswith(\"data\")"
   ]
  },
  {
   "cell_type": "code",
   "execution_count": 58,
   "metadata": {},
   "outputs": [
    {
     "output_type": "execute_result",
     "data": {
      "text/plain": [
       "'data.csv'"
      ]
     },
     "metadata": {},
     "execution_count": 58
    }
   ],
   "source": [
    "filename"
   ]
  },
  {
   "cell_type": "code",
   "execution_count": 62,
   "metadata": {},
   "outputs": [
    {
     "output_type": "execute_result",
     "data": {
      "text/plain": [
       "['data', 'min', 'js']"
      ]
     },
     "metadata": {},
     "execution_count": 62
    }
   ],
   "source": [
    "\n",
    "filename = 'data.min.js'\n",
    "\n",
    "filename = filename.split(\".\")\n",
    "\n",
    "filename\n"
   ]
  },
  {
   "cell_type": "code",
   "execution_count": 64,
   "metadata": {},
   "outputs": [
    {
     "output_type": "execute_result",
     "data": {
      "text/plain": [
       "list"
      ]
     },
     "metadata": {},
     "execution_count": 64
    }
   ],
   "source": [
    "para = 'Hello World'\n",
    "\n",
    "para.split(\" \")"
   ]
  },
  {
   "cell_type": "code",
   "execution_count": 90,
   "metadata": {},
   "outputs": [
    {
     "output_type": "execute_result",
     "data": {
      "text/plain": [
       "'https:__meet.google.com_vij-umkj-cnh?authuser=1'"
      ]
     },
     "metadata": {},
     "execution_count": 90
    }
   ],
   "source": [
    "url = 'https://meet.google.com/vij-umkj-cnh?authuser=1'\n",
    "\n",
    "domain = url.split(\"/\")\n",
    "\n",
    "domain\n",
    "\n",
    "d = \"_\".join(domain)\n",
    "\n",
    "d\n"
   ]
  },
  {
   "cell_type": "code",
   "execution_count": 77,
   "metadata": {},
   "outputs": [
    {
     "output_type": "execute_result",
     "data": {
      "text/plain": [
       "'meet.google.com'"
      ]
     },
     "metadata": {},
     "execution_count": 77
    }
   ],
   "source": [
    "domain = domain[2]\n",
    "domain"
   ]
  },
  {
   "cell_type": "code",
   "execution_count": 78,
   "metadata": {},
   "outputs": [
    {
     "output_type": "stream",
     "name": "stdout",
     "text": [
      "Domain:  meet.google.com\nSub domain:  meet\n"
     ]
    }
   ],
   "source": [
    "subdomain = domain.split(\".\")[0]\n",
    "print(\"Domain: \", domain)\n",
    "print(\"Sub domain: \", subdomain)"
   ]
  },
  {
   "cell_type": "code",
   "execution_count": 80,
   "metadata": {},
   "outputs": [
    {
     "output_type": "execute_result",
     "data": {
      "text/plain": [
       "['Python', 'Html']"
      ]
     },
     "metadata": {},
     "execution_count": 80
    }
   ],
   "source": [
    "data = [\"Python\", \"Html\"]\n",
    "data"
   ]
  },
  {
   "cell_type": "code",
   "execution_count": 86,
   "metadata": {},
   "outputs": [],
   "source": [
    "data1 = \"_\".join(data)"
   ]
  },
  {
   "cell_type": "code",
   "execution_count": 87,
   "metadata": {},
   "outputs": [
    {
     "output_type": "execute_result",
     "data": {
      "text/plain": [
       "'Python_Html'"
      ]
     },
     "metadata": {},
     "execution_count": 87
    }
   ],
   "source": [
    "data1"
   ]
  },
  {
   "cell_type": "code",
   "execution_count": 83,
   "metadata": {},
   "outputs": [
    {
     "output_type": "execute_result",
     "data": {
      "text/plain": [
       "str"
      ]
     },
     "metadata": {},
     "execution_count": 83
    }
   ],
   "source": [
    "type(data1)"
   ]
  },
  {
   "cell_type": "code",
   "execution_count": 93,
   "metadata": {},
   "outputs": [
    {
     "output_type": "execute_result",
     "data": {
      "text/plain": [
       "'adam sam'"
      ]
     },
     "metadata": {},
     "execution_count": 93
    }
   ],
   "source": [
    "name = \"Adam SAM\"\n",
    "name = name.lower()\n",
    "name"
   ]
  },
  {
   "cell_type": "code",
   "execution_count": 94,
   "metadata": {},
   "outputs": [
    {
     "output_type": "execute_result",
     "data": {
      "text/plain": [
       "'ADAM SAM'"
      ]
     },
     "metadata": {},
     "execution_count": 94
    }
   ],
   "source": [
    "name.upper()"
   ]
  },
  {
   "cell_type": "code",
   "execution_count": 99,
   "metadata": {},
   "outputs": [
    {
     "output_type": "execute_result",
     "data": {
      "text/plain": [
       "7"
      ]
     },
     "metadata": {},
     "execution_count": 99
    }
   ],
   "source": [
    "text = \"Python Html Css\"\n",
    "\n",
    "text.find(\"Html\")"
   ]
  },
  {
   "cell_type": "code",
   "execution_count": 100,
   "metadata": {},
   "outputs": [
    {
     "output_type": "execute_result",
     "data": {
      "text/plain": [
       "-1"
      ]
     },
     "metadata": {},
     "execution_count": 100
    }
   ],
   "source": [
    "text.find(\"Javascript\")"
   ]
  },
  {
   "cell_type": "code",
   "execution_count": null,
   "metadata": {},
   "outputs": [],
   "source": []
  }
 ]
}