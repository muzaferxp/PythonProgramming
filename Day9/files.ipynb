{
 "metadata": {
  "language_info": {
   "codemirror_mode": {
    "name": "ipython",
    "version": 3
   },
   "file_extension": ".py",
   "mimetype": "text/x-python",
   "name": "python",
   "nbconvert_exporter": "python",
   "pygments_lexer": "ipython3",
   "version": "3.9.0-final"
  },
  "orig_nbformat": 2,
  "kernelspec": {
   "name": "python3",
   "display_name": "Python 3.9.0 64-bit",
   "metadata": {
    "interpreter": {
     "hash": "c7192cbc191bcb1e11eb24b740d9d922bf147b1b4b27d90b14d37bd8ac6ff684"
    }
   }
  }
 },
 "nbformat": 4,
 "nbformat_minor": 2,
 "cells": [
  {
   "cell_type": "code",
   "execution_count": 3,
   "metadata": {},
   "outputs": [],
   "source": [
    "#read\n",
    "#write\n",
    "#append\n",
    "\n",
    "f = open(\"sample.txt\", \"w\")\n",
    "\n",
    "f.write(\"Welcome\")\n",
    "\n",
    "f.close()"
   ]
  },
  {
   "cell_type": "code",
   "execution_count": 5,
   "metadata": {},
   "outputs": [],
   "source": [
    "\n",
    "#write data\n",
    "f = open(\"sample.txt\", \"w\")\n",
    "\n",
    "for x in range(0,10):\n",
    "    f.write(\"Welcome \\n\")\n",
    "\n",
    "f.close()\n"
   ]
  },
  {
   "cell_type": "code",
   "execution_count": null,
   "metadata": {},
   "outputs": [],
   "source": [
    "#append data\n",
    "f = open(\"sample.txt\", \"a\")\n",
    "\n",
    "for x in range(0,10):\n",
    "    f.write(\"Everyone \\n\")\n",
    "\n",
    "f.close()"
   ]
  }
 ]
}