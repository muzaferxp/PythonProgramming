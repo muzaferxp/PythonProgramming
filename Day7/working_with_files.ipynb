{
 "metadata": {
  "language_info": {
   "codemirror_mode": {
    "name": "ipython",
    "version": 3
   },
   "file_extension": ".py",
   "mimetype": "text/x-python",
   "name": "python",
   "nbconvert_exporter": "python",
   "pygments_lexer": "ipython3",
   "version": "3.9.0-final"
  },
  "orig_nbformat": 2,
  "kernelspec": {
   "name": "python3",
   "display_name": "Python 3.9.0 64-bit",
   "metadata": {
    "interpreter": {
     "hash": "c7192cbc191bcb1e11eb24b740d9d922bf147b1b4b27d90b14d37bd8ac6ff684"
    }
   }
  }
 },
 "nbformat": 4,
 "nbformat_minor": 2,
 "cells": [
  {
   "cell_type": "code",
   "execution_count": 24,
   "metadata": {},
   "outputs": [],
   "source": [
    "#=================WORKING WITH FILES==============\n",
    "#1 open\n",
    "#2 read\n",
    "#3 write\n",
    "#4 append\n",
    "#5 close\n",
    "\n",
    "file_path = \"sample.txt\""
   ]
  },
  {
   "cell_type": "code",
   "execution_count": 34,
   "metadata": {},
   "outputs": [],
   "source": [
    "#open file\n",
    "f = open(file_path)    # same as open(file_path, \"r\")"
   ]
  },
  {
   "cell_type": "code",
   "execution_count": 35,
   "metadata": {},
   "outputs": [],
   "source": [
    "#read file data\n",
    "file_data = f.readlines()\n",
    "\n",
    "#close file\n",
    "f.close()"
   ]
  },
  {
   "cell_type": "code",
   "execution_count": 36,
   "metadata": {},
   "outputs": [
    {
     "output_type": "execute_result",
     "data": {
      "text/plain": [
       "['this is a sample text\\n', 'second line\\n', 'third line']"
      ]
     },
     "metadata": {},
     "execution_count": 36
    }
   ],
   "source": [
    "file_data"
   ]
  },
  {
   "cell_type": "code",
   "execution_count": 37,
   "metadata": {},
   "outputs": [
    {
     "output_type": "stream",
     "name": "stdout",
     "text": [
      "this is a sample text\n\nsecond line\n\nthird line\n"
     ]
    }
   ],
   "source": [
    "#print file data\n",
    "for x in file_data:\n",
    "    print(x)"
   ]
  },
  {
   "cell_type": "code",
   "execution_count": 42,
   "metadata": {},
   "outputs": [],
   "source": [
    "\"\"\"\n",
    "open file in writing mode\n",
    "syntax :  open(file_path, OpeningMode) \n",
    "OpeningModes\n",
    "1. \"r\"  = read\n",
    "2. \"w\"  = write     #overwrite the existing data in file\n",
    "3. \"a\"  = append    #\n",
    "4. \"r+\" = read and write\n",
    "\"\"\"\n",
    "\n",
    "\n",
    "#write data to file\n",
    "f = open(file_path, \"w\")\n",
    "f.write(\"More New Lines \") \n",
    "f.close()\n",
    "\n"
   ]
  },
  {
   "cell_type": "code",
   "execution_count": 48,
   "metadata": {},
   "outputs": [],
   "source": [
    "#write data to file in appending mode\n",
    "f = open(file_path, \"a\")\n",
    "f.write(\"More New Lines \\n\") \n",
    "f.close()"
   ]
  },
  {
   "cell_type": "code",
   "execution_count": 51,
   "metadata": {},
   "outputs": [],
   "source": [
    "#basic function to write string\n",
    "def write_data(data):\n",
    "    #write data to file in appending mode\n",
    "    f = open(file_path, \"a\")\n",
    "    f.write(data + \"\\n\") \n",
    "    f.close()\n",
    "\n",
    "\n",
    "user_input = \"More New Lines\"\n",
    "\n",
    "write_data(user_input)\n"
   ]
  },
  {
   "cell_type": "code",
   "execution_count": 53,
   "metadata": {},
   "outputs": [],
   "source": [
    "data = [\"Python\", \"Html\", \"Css\"]\n",
    "\n",
    "def write_data(data):\n",
    "    #write data to file in appending mode\n",
    "    f = open(file_path, \"a\")\n",
    "    for line in data:\n",
    "        f.write(line + \"\\n\") \n",
    "    f.close()\n",
    "\n",
    "\n",
    "write_data(data)"
   ]
  }
 ]
}