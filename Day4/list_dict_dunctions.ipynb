{
 "metadata": {
  "language_info": {
   "codemirror_mode": {
    "name": "ipython",
    "version": 3
   },
   "file_extension": ".py",
   "mimetype": "text/x-python",
   "name": "python",
   "nbconvert_exporter": "python",
   "pygments_lexer": "ipython3",
   "version": "3.9.0-final"
  },
  "orig_nbformat": 2,
  "kernelspec": {
   "name": "python3",
   "display_name": "Python 3.9.0 64-bit",
   "metadata": {
    "interpreter": {
     "hash": "c7192cbc191bcb1e11eb24b740d9d922bf147b1b4b27d90b14d37bd8ac6ff684"
    }
   }
  }
 },
 "nbformat": 4,
 "nbformat_minor": 2,
 "cells": [
  {
   "cell_type": "code",
   "execution_count": 21,
   "metadata": {},
   "outputs": [],
   "source": [
    "#=============LIST FUNCTIONS\n",
    "#append\n",
    "#clear\n",
    "#copy\n",
    "#count\n",
    "#extends\n",
    "#insert\n",
    "#pop\n",
    "#remove\n",
    "#sort\n",
    "#reverse\n",
    "data = [\"Html\", \"Css\", \"Javascript\"]\n"
   ]
  },
  {
   "cell_type": "code",
   "execution_count": 25,
   "metadata": {},
   "outputs": [
    {
     "output_type": "execute_result",
     "data": {
      "text/plain": [
       "['Html', 'Css', 'Javascript', 'Bootstrap', 'Bootstrap']"
      ]
     },
     "metadata": {},
     "execution_count": 25
    }
   ],
   "source": [
    "data.append(\"Bootstrap\")\n",
    "\n",
    "data"
   ]
  },
  {
   "cell_type": "code",
   "execution_count": 18,
   "metadata": {},
   "outputs": [
    {
     "output_type": "execute_result",
     "data": {
      "text/plain": [
       "[]"
      ]
     },
     "metadata": {},
     "execution_count": 18
    }
   ],
   "source": [
    "\n",
    "data.clear()\n",
    "#data = []\n",
    "\n",
    "data"
   ]
  },
  {
   "cell_type": "code",
   "execution_count": 26,
   "metadata": {},
   "outputs": [],
   "source": [
    "data1 = data.copy()"
   ]
  },
  {
   "cell_type": "code",
   "execution_count": 27,
   "metadata": {},
   "outputs": [
    {
     "output_type": "execute_result",
     "data": {
      "text/plain": [
       "['Html', 'Css', 'Javascript', 'Bootstrap', 'Bootstrap']"
      ]
     },
     "metadata": {},
     "execution_count": 27
    }
   ],
   "source": [
    "data1"
   ]
  },
  {
   "cell_type": "code",
   "execution_count": 30,
   "metadata": {},
   "outputs": [
    {
     "output_type": "execute_result",
     "data": {
      "text/plain": [
       "2"
      ]
     },
     "metadata": {},
     "execution_count": 30
    }
   ],
   "source": [
    "data.count(\"Bootstrap\") #count the num of items by passing value"
   ]
  },
  {
   "cell_type": "code",
   "execution_count": 31,
   "metadata": {},
   "outputs": [
    {
     "output_type": "execute_result",
     "data": {
      "text/plain": [
       "5"
      ]
     },
     "metadata": {},
     "execution_count": 31
    }
   ],
   "source": [
    "len(data)  #returns length of list"
   ]
  },
  {
   "cell_type": "code",
   "execution_count": 32,
   "metadata": {},
   "outputs": [],
   "source": [
    "a = [\"a\", \"d\", \"c\"]\n",
    "b = [\"d\", \"e\", \"f\"]\n",
    "\n",
    "a.extend(b) # same as a = a + b"
   ]
  },
  {
   "cell_type": "code",
   "execution_count": 33,
   "metadata": {},
   "outputs": [
    {
     "output_type": "execute_result",
     "data": {
      "text/plain": [
       "['a', 'd', 'c', 'd', 'e', 'f']"
      ]
     },
     "metadata": {},
     "execution_count": 33
    }
   ],
   "source": [
    "a"
   ]
  },
  {
   "cell_type": "code",
   "execution_count": 34,
   "metadata": {},
   "outputs": [
    {
     "output_type": "execute_result",
     "data": {
      "text/plain": [
       "['Html', 'Css', 'Javascript', 'Bootstrap', 'Bootstrap']"
      ]
     },
     "metadata": {},
     "execution_count": 34
    }
   ],
   "source": [
    "data"
   ]
  },
  {
   "cell_type": "code",
   "execution_count": 39,
   "metadata": {},
   "outputs": [],
   "source": [
    "data.insert(4, \"Flask\")"
   ]
  },
  {
   "cell_type": "code",
   "execution_count": 40,
   "metadata": {},
   "outputs": [
    {
     "output_type": "execute_result",
     "data": {
      "text/plain": [
       "['MySql',\n",
       " 'Bootstrap',\n",
       " 'Html',\n",
       " 'Css',\n",
       " 'Flask',\n",
       " 'Javascript',\n",
       " 'Bootstrap',\n",
       " 'Bootstrap']"
      ]
     },
     "metadata": {},
     "execution_count": 40
    }
   ],
   "source": [
    "data"
   ]
  },
  {
   "cell_type": "code",
   "execution_count": 41,
   "metadata": {},
   "outputs": [
    {
     "output_type": "execute_result",
     "data": {
      "text/plain": [
       "'Flask'"
      ]
     },
     "metadata": {},
     "execution_count": 41
    }
   ],
   "source": [
    "data.pop(4)  #delete item in the list by passing index value for that item"
   ]
  },
  {
   "cell_type": "code",
   "execution_count": 42,
   "metadata": {},
   "outputs": [
    {
     "output_type": "execute_result",
     "data": {
      "text/plain": [
       "['MySql', 'Bootstrap', 'Html', 'Css', 'Javascript', 'Bootstrap', 'Bootstrap']"
      ]
     },
     "metadata": {},
     "execution_count": 42
    }
   ],
   "source": [
    "data"
   ]
  },
  {
   "cell_type": "code",
   "execution_count": 43,
   "metadata": {},
   "outputs": [
    {
     "output_type": "execute_result",
     "data": {
      "text/plain": [
       "['MySql', 'Html', 'Css', 'Javascript', 'Bootstrap', 'Bootstrap']"
      ]
     },
     "metadata": {},
     "execution_count": 43
    }
   ],
   "source": [
    "data.pop(1)\n",
    "\n",
    "data"
   ]
  },
  {
   "cell_type": "code",
   "execution_count": 46,
   "metadata": {},
   "outputs": [
    {
     "output_type": "execute_result",
     "data": {
      "text/plain": [
       "['MySql', 'Html', 'Css', 'Javascript', 'Bootstrap', 'Bootstrap']"
      ]
     },
     "metadata": {},
     "execution_count": 46
    }
   ],
   "source": [
    "data"
   ]
  },
  {
   "cell_type": "code",
   "execution_count": 47,
   "metadata": {},
   "outputs": [],
   "source": [
    "data.remove(\"MySql\")"
   ]
  },
  {
   "cell_type": "code",
   "execution_count": 48,
   "metadata": {},
   "outputs": [
    {
     "output_type": "execute_result",
     "data": {
      "text/plain": [
       "['Html', 'Css', 'Javascript', 'Bootstrap', 'Bootstrap']"
      ]
     },
     "metadata": {},
     "execution_count": 48
    }
   ],
   "source": [
    "data"
   ]
  },
  {
   "cell_type": "code",
   "execution_count": 53,
   "metadata": {},
   "outputs": [],
   "source": [
    "if \"MySql\" in data:\n",
    "    data.remove(\"MySql\")"
   ]
  },
  {
   "cell_type": "code",
   "execution_count": 55,
   "metadata": {},
   "outputs": [
    {
     "output_type": "execute_result",
     "data": {
      "text/plain": [
       "True"
      ]
     },
     "metadata": {},
     "execution_count": 55
    }
   ],
   "source": [
    "\"Bootstrap\" in data"
   ]
  },
  {
   "cell_type": "code",
   "execution_count": 56,
   "metadata": {},
   "outputs": [
    {
     "output_type": "execute_result",
     "data": {
      "text/plain": [
       "['Html', 'Css', 'Javascript', 'Bootstrap', 'Bootstrap']"
      ]
     },
     "metadata": {},
     "execution_count": 56
    }
   ],
   "source": [
    "data"
   ]
  },
  {
   "cell_type": "code",
   "execution_count": 58,
   "metadata": {},
   "outputs": [
    {
     "output_type": "execute_result",
     "data": {
      "text/plain": [
       "['Bootstrap', 'Bootstrap', 'Css', 'Html', 'Javascript']"
      ]
     },
     "metadata": {},
     "execution_count": 58
    }
   ],
   "source": [
    "data.sort()\n",
    "data"
   ]
  },
  {
   "cell_type": "code",
   "execution_count": 59,
   "metadata": {},
   "outputs": [
    {
     "output_type": "execute_result",
     "data": {
      "text/plain": [
       "[1, 2, 4, 5]"
      ]
     },
     "metadata": {},
     "execution_count": 59
    }
   ],
   "source": [
    "temp = [1,5,2,4]\n",
    "\n",
    "temp.sort()\n",
    "\n",
    "temp"
   ]
  },
  {
   "cell_type": "code",
   "execution_count": 60,
   "metadata": {},
   "outputs": [
    {
     "output_type": "execute_result",
     "data": {
      "text/plain": [
       "['Javascript', 'Html', 'Css', 'Bootstrap', 'Bootstrap']"
      ]
     },
     "metadata": {},
     "execution_count": 60
    }
   ],
   "source": [
    "data.reverse()\n",
    "\n",
    "data"
   ]
  },
  {
   "cell_type": "code",
   "execution_count": 63,
   "metadata": {},
   "outputs": [
    {
     "output_type": "execute_result",
     "data": {
      "text/plain": [
       "['Javascript', 'Html', 'Css', 'Bootstrap', 'Bootstrap']"
      ]
     },
     "metadata": {},
     "execution_count": 63
    }
   ],
   "source": [
    "#======     0            1       2       3             4\n",
    "data = ['Javascript', 'Html', 'Css', 'Bootstrap', 'Bootstrap']\n",
    "#======     -5          -4     -3       -2             -1\n"
   ]
  },
  {
   "cell_type": "code",
   "execution_count": 67,
   "metadata": {},
   "outputs": [
    {
     "output_type": "execute_result",
     "data": {
      "text/plain": [
       "'Bootstrap'"
      ]
     },
     "metadata": {},
     "execution_count": 67
    }
   ],
   "source": [
    "#getting last item in the list\n",
    "\n",
    "data[-1]"
   ]
  },
  {
   "cell_type": "code",
   "execution_count": 68,
   "metadata": {},
   "outputs": [
    {
     "output_type": "execute_result",
     "data": {
      "text/plain": [
       "'Bootstrap'"
      ]
     },
     "metadata": {},
     "execution_count": 68
    }
   ],
   "source": [
    "data[4]"
   ]
  },
  {
   "cell_type": "code",
   "execution_count": 78,
   "metadata": {},
   "outputs": [
    {
     "output_type": "execute_result",
     "data": {
      "text/plain": [
       "['Javascript', 'Html']"
      ]
     },
     "metadata": {},
     "execution_count": 78
    }
   ],
   "source": [
    "data[0:2]  #data[start:end]"
   ]
  },
  {
   "cell_type": "code",
   "execution_count": 82,
   "metadata": {},
   "outputs": [
    {
     "output_type": "execute_result",
     "data": {
      "text/plain": [
       "['Css', 'Bootstrap', 'Bootstrap']"
      ]
     },
     "metadata": {},
     "execution_count": 82
    }
   ],
   "source": [
    "data[2:]  #if we dont end value, it will return from start to the length of lest"
   ]
  },
  {
   "cell_type": "code",
   "execution_count": 84,
   "metadata": {},
   "outputs": [
    {
     "output_type": "execute_result",
     "data": {
      "text/plain": [
       "['Javascript', 'Html', 'Css', 'Bootstrap', 'Bootstrap']"
      ]
     },
     "metadata": {},
     "execution_count": 84
    }
   ],
   "source": [
    "data[:5]"
   ]
  },
  {
   "cell_type": "code",
   "execution_count": 85,
   "metadata": {},
   "outputs": [
    {
     "output_type": "execute_result",
     "data": {
      "text/plain": [
       "['Javascript', 'Html', 'Css', 'Bootstrap']"
      ]
     },
     "metadata": {},
     "execution_count": 85
    }
   ],
   "source": [
    "data[:-1]"
   ]
  },
  {
   "cell_type": "code",
   "execution_count": 87,
   "metadata": {},
   "outputs": [
    {
     "output_type": "execute_result",
     "data": {
      "text/plain": [
       "'Bootstrap'"
      ]
     },
     "metadata": {},
     "execution_count": 87
    }
   ],
   "source": []
  },
  {
   "cell_type": "code",
   "execution_count": null,
   "metadata": {},
   "outputs": [],
   "source": []
  }
 ]
}