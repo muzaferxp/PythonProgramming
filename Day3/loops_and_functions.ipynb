{
 "metadata": {
  "language_info": {
   "codemirror_mode": {
    "name": "ipython",
    "version": 3
   },
   "file_extension": ".py",
   "mimetype": "text/x-python",
   "name": "python",
   "nbconvert_exporter": "python",
   "pygments_lexer": "ipython3",
   "version": "3.9.0-final"
  },
  "orig_nbformat": 2,
  "kernelspec": {
   "name": "python3",
   "display_name": "Python 3.9.0 64-bit",
   "metadata": {
    "interpreter": {
     "hash": "c7192cbc191bcb1e11eb24b740d9d922bf147b1b4b27d90b14d37bd8ac6ff684"
    }
   }
  }
 },
 "nbformat": 4,
 "nbformat_minor": 2,
 "cells": [
  {
   "cell_type": "code",
   "execution_count": 2,
   "metadata": {},
   "outputs": [
    {
     "output_type": "stream",
     "name": "stdout",
     "text": [
      "10\n11\n12\n13\n14\n15\n16\n17\n18\n19\n"
     ]
    }
   ],
   "source": [
    "#================LOOPS=========\n",
    "\n",
    "# for in range(start,end) or range(limit)\n",
    "for x in range(10,20):\n",
    "    print(x)"
   ]
  },
  {
   "cell_type": "code",
   "execution_count": 7,
   "metadata": {},
   "outputs": [
    {
     "output_type": "stream",
     "name": "stdout",
     "text": [
      "python\nHtml\nCss\nJavascript\nFlask\n100\n150\n"
     ]
    }
   ],
   "source": [
    "\n",
    "data = [\n",
    "    \"python\",\n",
    "    \"Html\",\n",
    "    \"Css\",\n",
    "    \"Javascript\",\n",
    "    \"Flask\",\n",
    "      100,\n",
    "      150,\n",
    " ]\n",
    "\n",
    "# for loop on list data\n",
    "for x in data:\n",
    "    print(x)\n",
    "\n"
   ]
  },
  {
   "cell_type": "code",
   "execution_count": 32,
   "metadata": {},
   "outputs": [
    {
     "output_type": "stream",
     "name": "stdout",
     "text": [
      "user1\n{'Name': 'Adam', 'Age': 25}\nuser2\n{'Name': 'Sam', 'Age': 30}\nuser3\nsome data\n"
     ]
    }
   ],
   "source": [
    "Users = {\n",
    "    \"user1\" : {\n",
    "        \"Name\" : \"Adam\",\n",
    "        \"Age\" : 25\n",
    "    },\n",
    "    \"user2\" : {\n",
    "        \"Name\" : \"Sam\",\n",
    "        \"Age\" : 30\n",
    "    },\n",
    "    \"user3\" : \"some data\"\n",
    "}\n",
    "\n",
    "# retrive data dict[\"key\"]\n",
    "Users[\"user2\"]\n",
    "\n",
    "# for loop on Dict / JSON data\n",
    "for x in Users:\n",
    "    print(x)   #x is dict keys (\"user1\")\n",
    "    print(Users[x])  #it returns value for key \"user1\"\n",
    "\n",
    "\n"
   ]
  },
  {
   "cell_type": "code",
   "execution_count": 36,
   "metadata": {},
   "outputs": [
    {
     "output_type": "stream",
     "name": "stdout",
     "text": [
      "user1\n{'Name': 'Adam', 'Age': 25}\nuser2\n{'Name': 'Sam', 'Age': 30}\nuser3\nsome data\n"
     ]
    }
   ],
   "source": [
    "\n",
    "# .items() method is used to retrive key and values in the dict\n",
    "for key,val in Users.items():\n",
    "    print(key)\n",
    "    print(val)"
   ]
  },
  {
   "cell_type": "code",
   "execution_count": 5,
   "metadata": {},
   "outputs": [
    {
     "output_type": "stream",
     "name": "stdout",
     "text": [
      "___________##___________\n__________####__________\n_________######_________\n________########________\n_______##########_______\n______############______\n_____##############_____\n____################____\n___##################___\n__####################__\n"
     ]
    }
   ],
   "source": [
    "# printing piramid using loops\n",
    "\n",
    "i = 11\n",
    "for x in range(1,11):\n",
    "    print(\"_\" * i +  \"#\" * x +  \"#\" * x + \"_\" * i )\n",
    "\n",
    "    i -= 1"
   ]
  },
  {
   "cell_type": "code",
   "execution_count": 44,
   "metadata": {},
   "outputs": [
    {
     "output_type": "stream",
     "name": "stdout",
     "text": [
      "# # # # # # # # # # \n"
     ]
    }
   ],
   "source": [
    "print(\"# \" * 10)"
   ]
  },
  {
   "cell_type": "code",
   "execution_count": 47,
   "metadata": {},
   "outputs": [
    {
     "output_type": "execute_result",
     "data": {
      "text/plain": [
       "'Adam Sam'"
      ]
     },
     "metadata": {},
     "execution_count": 47
    }
   ],
   "source": [
    "\"Adam\" + \" Sam\""
   ]
  },
  {
   "cell_type": "code",
   "execution_count": 48,
   "metadata": {},
   "outputs": [
    {
     "output_type": "execute_result",
     "data": {
      "text/plain": [
       "'__________#####'"
      ]
     },
     "metadata": {},
     "execution_count": 48
    }
   ],
   "source": [
    "\"_\" * 10 + \"#\" * 5"
   ]
  },
  {
   "cell_type": "code",
   "execution_count": 15,
   "metadata": {},
   "outputs": [
    {
     "output_type": "stream",
     "name": "stdout",
     "text": [
      "_____________________\n|                    |\n|                    |\n|                    |\n|                    |\n|                    |\n|                    |\n|                    |\n|                    |\n|                    |\n|                    |\n_____________________\n"
     ]
    }
   ],
   "source": [
    "#printing square using loops\n",
    "i = 20\n",
    "print(\"_\" * (i + 1))\n",
    "for x in range(int(i / 2)):  #int(i / 0) converts 5.0 -> 5\n",
    "    print(\"|\" + \" \" * i + \"|\") \n",
    "print(\"_\" * (i + 1))"
   ]
  },
  {
   "cell_type": "code",
   "execution_count": 16,
   "metadata": {},
   "outputs": [
    {
     "output_type": "stream",
     "name": "stdout",
     "text": [
      "####################\n####################\n####################\n####################\n####################\n####################\n####################\n####################\n####################\n####################\n"
     ]
    }
   ],
   "source": [
    "#printing square using loops\n",
    "i = 20\n",
    "for x in range(int(i / 2)):\n",
    "    print(\"#\" * i) "
   ]
  },
  {
   "cell_type": "code",
   "execution_count": 21,
   "metadata": {},
   "outputs": [
    {
     "output_type": "stream",
     "name": "stdout",
     "text": [
      "___________##___________\n__________####__________\n_________######_________\n________########________\n_______##########_______\n______############______\n_____##############_____\n____################____\n___##################___\n__####################__\n#########################\n#########################\n#########################\n#########################\n#########################\n#########################\n#########################\n#########################\n#########################\n#########################\n#########################\n#########################\n"
     ]
    }
   ],
   "source": [
    "i = 11\n",
    "for x in range(1,11):\n",
    "    print(\"_\" * i +  \"#\" * x +  \"#\" * x + \"_\" * i )\n",
    "    i -= 1\n",
    "\n",
    "#printing square using loops\n",
    "i = 25\n",
    "for x in range(int(i / 2)):\n",
    "    print(\"#\" * i) "
   ]
  },
  {
   "cell_type": "code",
   "execution_count": 26,
   "metadata": {},
   "outputs": [],
   "source": [
    "#=======================FUNCTIONS================\n",
    "\n",
    "def greet():\n",
    "    print(\"Welcome Adam\")\n",
    "    \n"
   ]
  },
  {
   "cell_type": "code",
   "execution_count": 28,
   "metadata": {},
   "outputs": [
    {
     "output_type": "stream",
     "name": "stdout",
     "text": [
      "Welcome Adam\nWelcome Adam\n"
     ]
    }
   ],
   "source": [
    "greet()\n",
    "greet()\n"
   ]
  },
  {
   "cell_type": "code",
   "execution_count": 33,
   "metadata": {},
   "outputs": [],
   "source": [
    "#functions with paramenters\n",
    "\n",
    "def say_hello(user_name): #formal parameter\n",
    "    print(\"Hello\" , user_name)\n"
   ]
  },
  {
   "cell_type": "code",
   "execution_count": 35,
   "metadata": {},
   "outputs": [
    {
     "output_type": "stream",
     "name": "stdout",
     "text": [
      "Hello Adam\nHello Sam\n"
     ]
    }
   ],
   "source": [
    "say_hello(\"Adam\")  #acrual parameter\n",
    "say_hello(\"Sam\") "
   ]
  },
  {
   "cell_type": "code",
   "execution_count": 46,
   "metadata": {},
   "outputs": [],
   "source": [
    "def pyramid(i):\n",
    "    for x in range(1,i):\n",
    "        print(\"_\" * i +  \"#\" * x +  \"#\" * x + \"_\" * i )\n",
    "        i -= 1"
   ]
  },
  {
   "cell_type": "code",
   "execution_count": 50,
   "metadata": {},
   "outputs": [
    {
     "output_type": "stream",
     "name": "stdout",
     "text": [
      "__________##__________\n_________####_________\n________######________\n_______########_______\n______##########______\n_____############_____\n____##############____\n___################___\n__##################__\n"
     ]
    }
   ],
   "source": [
    "pyramid(10)"
   ]
  },
  {
   "cell_type": "code",
   "execution_count": 51,
   "metadata": {},
   "outputs": [],
   "source": [
    "#  function return satements\n",
    "\n",
    "def add(num1, num2):\n",
    "\n",
    "    result = num1 + num2\n",
    "    \n",
    "    return result"
   ]
  },
  {
   "cell_type": "code",
   "execution_count": 52,
   "metadata": {},
   "outputs": [
    {
     "output_type": "execute_result",
     "data": {
      "text/plain": [
       "30"
      ]
     },
     "metadata": {},
     "execution_count": 52
    }
   ],
   "source": [
    "add(10,20)"
   ]
  },
  {
   "cell_type": "code",
   "execution_count": 63,
   "metadata": {},
   "outputs": [],
   "source": [
    "Users = {\n",
    "    \"user1\" : {\n",
    "        \"Name\" : \"Adam\",\n",
    "        \"Age\" : 15,\n",
    "    },\n",
    "    \"user2\" : {\n",
    "        \"Name\" : \"Sam\",\n",
    "        \"Age\" : 30\n",
    "    },\n",
    "    \"user3\" : {\n",
    "        \"Name\" : \"Sam\",\n",
    "        \"Age\" : 10\n",
    "    }\n",
    "}\n"
   ]
  },
  {
   "cell_type": "code",
   "execution_count": 64,
   "metadata": {},
   "outputs": [],
   "source": [
    "def get_users_above_18(data):\n",
    "    temp = []\n",
    "    for key in data:\n",
    "        if data[key][\"Age\"] > 18:\n",
    "            temp.append(key)\n",
    "\n",
    "    return temp\n",
    "\n"
   ]
  },
  {
   "cell_type": "code",
   "execution_count": 65,
   "metadata": {},
   "outputs": [
    {
     "output_type": "execute_result",
     "data": {
      "text/plain": [
       "['user2']"
      ]
     },
     "metadata": {},
     "execution_count": 65
    }
   ],
   "source": [
    "get_users_above_18(Users)"
   ]
  },
  {
   "cell_type": "code",
   "execution_count": 66,
   "metadata": {},
   "outputs": [
    {
     "output_type": "execute_result",
     "data": {
      "text/plain": [
       "['user2']"
      ]
     },
     "metadata": {},
     "execution_count": 66
    }
   ],
   "source": [
    "get_users_above_18(Users)"
   ]
  },
  {
   "cell_type": "code",
   "execution_count": null,
   "metadata": {},
   "outputs": [],
   "source": []
  }
 ]
}