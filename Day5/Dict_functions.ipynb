{
 "metadata": {
  "language_info": {
   "codemirror_mode": {
    "name": "ipython",
    "version": 3
   },
   "file_extension": ".py",
   "mimetype": "text/x-python",
   "name": "python",
   "nbconvert_exporter": "python",
   "pygments_lexer": "ipython3",
   "version": "3.9.0-final"
  },
  "orig_nbformat": 2,
  "kernelspec": {
   "name": "python3",
   "display_name": "Python 3.9.0 64-bit",
   "metadata": {
    "interpreter": {
     "hash": "c7192cbc191bcb1e11eb24b740d9d922bf147b1b4b27d90b14d37bd8ac6ff684"
    }
   }
  }
 },
 "nbformat": 4,
 "nbformat_minor": 2,
 "cells": [
  {
   "cell_type": "code",
   "execution_count": 7,
   "metadata": {},
   "outputs": [],
   "source": [
    "#================DICT fUNCTIONS==============\n",
    "\n",
    "#clear\n",
    "#copy\n",
    "#items\n",
    "#pop\n",
    "#key\n",
    "#values\n",
    "#update\n",
    "\n",
    "data = {\n",
    "    \"Forntend\" : [\"Html\", \"Css\", \"Javascript\"],\n",
    "    \"Backend\" : [\"Python\", \"Mysql\"]\n",
    "}"
   ]
  },
  {
   "cell_type": "code",
   "execution_count": 8,
   "metadata": {},
   "outputs": [
    {
     "output_type": "execute_result",
     "data": {
      "text/plain": [
       "{'Forntend': ['Html', 'Css', 'Javascript'], 'Backend': ['Python', 'Mysql']}"
      ]
     },
     "metadata": {},
     "execution_count": 8
    }
   ],
   "source": [
    "data"
   ]
  },
  {
   "cell_type": "code",
   "execution_count": 5,
   "metadata": {},
   "outputs": [
    {
     "output_type": "execute_result",
     "data": {
      "text/plain": [
       "{}"
      ]
     },
     "metadata": {},
     "execution_count": 5
    }
   ],
   "source": [
    "data.clear()\n",
    "#data = {}\n",
    "data"
   ]
  },
  {
   "cell_type": "code",
   "execution_count": 10,
   "metadata": {},
   "outputs": [
    {
     "output_type": "execute_result",
     "data": {
      "text/plain": [
       "{'Forntend': ['Html', 'Css', 'Javascript'], 'Backend': ['Python', 'Mysql']}"
      ]
     },
     "metadata": {},
     "execution_count": 10
    }
   ],
   "source": [
    "#=======copy======\n",
    "\n",
    "copy_data = data.copy()\n",
    "\n",
    "copy_data1 = data\n",
    "\n",
    "copy_data"
   ]
  },
  {
   "cell_type": "code",
   "execution_count": 15,
   "metadata": {},
   "outputs": [],
   "source": [
    "data[\"Cloud\"] = [\"AWS\", \"Azure\"]"
   ]
  },
  {
   "cell_type": "code",
   "execution_count": 26,
   "metadata": {},
   "outputs": [],
   "source": [
    "copy_data1[\"More\"] = []"
   ]
  },
  {
   "cell_type": "code",
   "execution_count": 14,
   "metadata": {},
   "outputs": [
    {
     "output_type": "execute_result",
     "data": {
      "text/plain": [
       "{'Forntend': ['Html', 'Css', 'Javascript'], 'Backend': ['Python', 'Mysql']}"
      ]
     },
     "metadata": {},
     "execution_count": 14
    }
   ],
   "source": [
    "copy_data"
   ]
  },
  {
   "cell_type": "code",
   "execution_count": 42,
   "metadata": {},
   "outputs": [
    {
     "output_type": "stream",
     "name": "stdout",
     "text": [
      "Forntend ['Html', 'Css', 'Javascript']\nBackend ['Python', 'Mysql']\nCloud []\nCloud copy []\nMore []\n"
     ]
    }
   ],
   "source": [
    "#=======items======\n",
    "\n",
    "data_items = data.items()\n",
    "\n",
    "for x,y in data_items:\n",
    "    print(x,y)"
   ]
  },
  {
   "cell_type": "code",
   "execution_count": 40,
   "metadata": {},
   "outputs": [
    {
     "output_type": "execute_result",
     "data": {
      "text/plain": [
       "[('Forntend', ['Html', 'Css', 'Javascript']),\n",
       " ('Backend', ['Python', 'Mysql']),\n",
       " ('Cloud', []),\n",
       " ('Cloud copy', []),\n",
       " ('More', [])]"
      ]
     },
     "metadata": {},
     "execution_count": 40
    }
   ],
   "source": [
    "list(data_items)"
   ]
  },
  {
   "cell_type": "code",
   "execution_count": 38,
   "metadata": {},
   "outputs": [
    {
     "output_type": "execute_result",
     "data": {
      "text/plain": [
       "dict_items([('Forntend', ['Html', 'Css', 'Javascript']), ('Backend', ['Python', 'Mysql']), ('Cloud', []), ('Cloud copy', []), ('More', [])])"
      ]
     },
     "metadata": {},
     "execution_count": 38
    }
   ],
   "source": [
    "data_items"
   ]
  },
  {
   "cell_type": "code",
   "execution_count": 41,
   "metadata": {},
   "outputs": [
    {
     "output_type": "stream",
     "name": "stdout",
     "text": [
      "Forntend ['Html', 'Css', 'Javascript']\nBackend ['Python', 'Mysql']\nCloud []\nCloud copy []\nMore []\n"
     ]
    }
   ],
   "source": [
    "for x,y in data.items():\n",
    "    print(x,y)"
   ]
  },
  {
   "cell_type": "code",
   "execution_count": 49,
   "metadata": {},
   "outputs": [
    {
     "output_type": "execute_result",
     "data": {
      "text/plain": [
       "{'Forntend': ['Html', 'Css', 'Javascript'], 'Backend': ['Python', 'Mysql']}"
      ]
     },
     "metadata": {},
     "execution_count": 49
    }
   ],
   "source": [
    "#===================POP===========\n",
    "if \"Cloud\" in data:\n",
    "    data.pop(\"Cloud\")\n",
    "\n",
    "data"
   ]
  },
  {
   "cell_type": "code",
   "execution_count": 54,
   "metadata": {},
   "outputs": [
    {
     "output_type": "stream",
     "name": "stdout",
     "text": [
      "Forntend\nBackend\n"
     ]
    }
   ],
   "source": [
    "data.keys()\n",
    "\n",
    "for x in data.keys():\n",
    "    print(x)"
   ]
  },
  {
   "cell_type": "code",
   "execution_count": 56,
   "metadata": {},
   "outputs": [
    {
     "output_type": "stream",
     "name": "stdout",
     "text": [
      "['Html', 'Css', 'Javascript']\n['Python', 'Mysql']\n"
     ]
    }
   ],
   "source": [
    "data.values()\n",
    "\n",
    "for val in data.values():\n",
    "    print(val)\n"
   ]
  },
  {
   "cell_type": "code",
   "execution_count": 62,
   "metadata": {},
   "outputs": [],
   "source": [
    "\n",
    "#==============UPDATE=======\n",
    "\n",
    "data.update({\"Cloud\" : [\"AWS\"], \"More\" : []})\n",
    "\n",
    "\n",
    "#data[\"Cloud\"] = [\"Azure\"]\n"
   ]
  },
  {
   "cell_type": "code",
   "execution_count": 63,
   "metadata": {},
   "outputs": [
    {
     "output_type": "execute_result",
     "data": {
      "text/plain": [
       "{'Forntend': ['Html', 'Css', 'Javascript'],\n",
       " 'Backend': ['Python', 'Mysql'],\n",
       " 'Cloud': ['AWS'],\n",
       " 'More': []}"
      ]
     },
     "metadata": {},
     "execution_count": 63
    }
   ],
   "source": [
    "data"
   ]
  },
  {
   "cell_type": "code",
   "execution_count": 60,
   "metadata": {},
   "outputs": [],
   "source": []
  },
  {
   "cell_type": "code",
   "execution_count": 87,
   "metadata": {},
   "outputs": [],
   "source": [
    "#=============IMPLEMENTATION===============\n",
    "#sample data\n",
    "customer_data = {\n",
    "    \"uid-1\" : {\n",
    "        \"Account-no\" : \"123\",\n",
    "        \"Full-Name\" : \"Adam\",\n",
    "        \"Account-type\" : \"Savings account\",\n",
    "        \"Balance\" : 1000,\n",
    "    },\n",
    "     \"uid-2\" : {\n",
    "        \"Account-no\" : \"456\",\n",
    "        \"Full-Name\" : \"Sam\",\n",
    "        \"Account-type\" : \"Savings account\",\n",
    "        \"Balance\" : 1000,\n",
    "    },\n",
    "     \"uid-3\" : {\n",
    "        \"Account-no\" : \"789\",\n",
    "        \"Full-Name\" : \"David\",\n",
    "        \"Account-type\" : \"Savings account\",\n",
    "        \"Balance\" : 345,\n",
    "    }\n",
    "}\n",
    "\n",
    "customer_creds = {\n",
    "    \"uid-1\" : \"passw1\",\n",
    "    \"uid-2\" : \"passw2\",\n",
    "    \"uid-3\" : \"passw3\"\n",
    "}\n",
    "\n"
   ]
  },
  {
   "cell_type": "code",
   "execution_count": 88,
   "metadata": {},
   "outputs": [
    {
     "output_type": "execute_result",
     "data": {
      "text/plain": [
       "{'uid-1': 'passw1', 'uid-2': 'passw2', 'uid-3': 'passw3'}"
      ]
     },
     "metadata": {},
     "execution_count": 88
    }
   ],
   "source": [
    "customer_creds\n",
    "\n"
   ]
  },
  {
   "cell_type": "code",
   "execution_count": 112,
   "metadata": {},
   "outputs": [],
   "source": [
    "#global variable\n",
    "uid = \"\"\n",
    "\n",
    "def login():\n",
    "    uid = input(\"Enter your User-Id: \")\n",
    "    pwd = input(\"Enter your pin: \")\n",
    "    if uid in customer_creds: #checking user id\n",
    "        if customer_creds[uid] == pwd:  #checking password\n",
    "            print(\"Logged in successfully\")\n",
    "            home()\n",
    "        else:\n",
    "            print(\"Password is incorrect!\")\n",
    "    else:\n",
    "        print(\"Print User doest not exists!\")\n",
    "\n"
   ]
  },
  {
   "cell_type": "code",
   "execution_count": 131,
   "metadata": {},
   "outputs": [],
   "source": [
    "def process(option):\n",
    "    if option == \"1\":\n",
    "        print(\"Your current balance is: \", customer_data[uid][\"Balance\"])\n",
    "    elif option == \"2\":\n",
    "        amout = int(input(\"PLease enter the amount you want to withdraw: \"))\n",
    "        if amout <= customer_data[uid][\"Balance\"]:\n",
    "            customer_data[uid][\"Balance\"] = customer_data[uid][\"Balance\"] - amout\n",
    "            print(\"Withdrowal succussful\")\n",
    "            return \"Thank you\"\n",
    "        else:\n",
    "            return \"Insufficient funds in you account!\"\n",
    "        \n",
    "    elif option == \"3\":\n",
    "        current_pin = input(\"Please enter you pin\")\n",
    "        if customer_creds[uid] == current_pin:\n",
    "            new_pin = input(\"Please enter the new pin\")\n",
    "            confirm = input(\"Please enter the new pin again\")\n",
    "\n",
    "            customer_creds[uid] = confirm\n",
    "            print(\"YOUR PIN HAS BEEN UPDAYED SUCCESSFULLY.\")\n",
    "            return \"Thank you\"\n",
    "\n",
    "    elif option == \"4\":\n",
    "        return \"Thank you.\"\n",
    "    else:\n",
    "        print(\"Please provide a valid input!\")\n",
    "        home()\n",
    "\n",
    "\n",
    "def home():\n",
    "    print(\"=================WELCOME TO OUR BANK================\")\n",
    "    print(\"please select any options below :\")\n",
    "    print(\"1. view balance\")\n",
    "    print(\"2. withdraw money\")\n",
    "    print(\"3. change PIN\")\n",
    "    print(\"4. exit\")\n",
    "    user_input = input(\"Please between 1 or 2 or 3 or 4\")\n",
    "    process(user_input)\n",
    "\n",
    "    \n",
    "\n",
    "    "
   ]
  },
  {
   "cell_type": "code",
   "execution_count": 135,
   "metadata": {},
   "outputs": [
    {
     "output_type": "stream",
     "name": "stdout",
     "text": [
      "=================WELCOME TO OUR BANK================\n",
      "please select any options below :\n",
      "1. view balance\n",
      "2. withdraw money\n",
      "3. change PIN\n",
      "4. exit\n",
      "Please provide a valid input!\n",
      "=================WELCOME TO OUR BANK================\n",
      "please select any options below :\n",
      "1. view balance\n",
      "2. withdraw money\n",
      "3. change PIN\n",
      "4. exit\n",
      "Please provide a valid input!\n",
      "=================WELCOME TO OUR BANK================\n",
      "please select any options below :\n",
      "1. view balance\n",
      "2. withdraw money\n",
      "3. change PIN\n",
      "4. exit\n",
      "Your current balance is:  0\n"
     ]
    }
   ],
   "source": [
    "home()"
   ]
  },
  {
   "cell_type": "code",
   "execution_count": 134,
   "metadata": {},
   "outputs": [
    {
     "output_type": "execute_result",
     "data": {
      "text/plain": [
       "{'uid-1': {'Account-no': '123',\n",
       "  'Full-Name': 'Adam',\n",
       "  'Account-type': 'Savings account',\n",
       "  'Balance': 0,\n",
       "  'PIN': 'newpassw'},\n",
       " 'uid-2': {'Account-no': '456',\n",
       "  'Full-Name': 'Sam',\n",
       "  'Account-type': 'Savings account',\n",
       "  'Balance': 1000},\n",
       " 'uid-3': {'Account-no': '789',\n",
       "  'Full-Name': 'David',\n",
       "  'Account-type': 'Savings account',\n",
       "  'Balance': 345}}"
      ]
     },
     "metadata": {},
     "execution_count": 134
    }
   ],
   "source": [
    "customer_data"
   ]
  },
  {
   "cell_type": "code",
   "execution_count": null,
   "metadata": {},
   "outputs": [],
   "source": []
  }
 ]
}